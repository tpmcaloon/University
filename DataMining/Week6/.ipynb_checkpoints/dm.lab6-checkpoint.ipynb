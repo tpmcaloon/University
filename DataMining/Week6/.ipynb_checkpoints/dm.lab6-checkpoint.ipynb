{
 "cells": [
  {
   "cell_type": "markdown",
   "metadata": {},
   "source": [
    "# LAB 5: Predicting diabetes aplication with decision trees on dataset with missing values\n",
    "\n",
    "The purpuse of this lab is to continue your work from the previous lab on the Pima Indians Diabetes dataset provided in this folder and described below. You will do this by employing ensemble based algorithms presented in the lectures of previous weeks: Bagging, Random forests, Adaboost. "
   ]
  },
  {
   "cell_type": "markdown",
   "metadata": {},
   "source": [
    "## Tasks\n",
    "\n",
    "1. Study the code with explanations and examples provided in this notebook. Try to understand each cell, run it and check the result. \n",
    "\n",
    "2. Experiment with other hyperparameter values of the ensemble based models seen in this lab.\n",
    "\n",
    "3. Compare the performances of the ensemble models in this lab, with the best decision tree models you obtained in Lab week 5."
   ]
  },
  {
   "cell_type": "markdown",
   "metadata": {},
   "source": [
    "## Loading Libraries"
   ]
  },
  {
   "cell_type": "code",
   "execution_count": 1,
   "metadata": {},
   "outputs": [],
   "source": [
    "# show plots inside the notebook  \n",
    "%matplotlib inline \n",
    "\n",
    "import pandas as pd\n",
    "import numpy as np\n",
    "import matplotlib.pyplot as plt\n",
    "%matplotlib inline"
   ]
  },
  {
   "cell_type": "markdown",
   "metadata": {},
   "source": [
    "## Data Loading"
   ]
  },
  {
   "cell_type": "code",
   "execution_count": 2,
   "metadata": {},
   "outputs": [],
   "source": [
    "diabetes_dataset = pd.read_csv(\"diabetes.csv\")"
   ]
  },
  {
   "cell_type": "markdown",
   "metadata": {},
   "source": [
    "Data Set Information:\n",
    "\n",
    "Several constraints were placed on the selection of these instances from a larger database. In particular, all patients here are females at least 21 years old of Pima Indian heritage. \n",
    "\n",
    "Attribute Information:\n",
    "\n",
    "1. Number of times pregnant \n",
    "2. Plasma glucose concentration a 2 hours in an oral glucose tolerance test \n",
    "3. Diastolic blood pressure (mm Hg) \n",
    "4. Triceps skin fold thickness (mm) \n",
    "5. 2-Hour serum insulin (mu U/ml) \n",
    "6. Body mass index (weight in kg/(height in m)^2) \n",
    "7. Diabetes pedigree function \n",
    "8. Age (years) \n",
    "9. Class variable (0 or 1) "
   ]
  },
  {
   "cell_type": "markdown",
   "metadata": {},
   "source": [
    "## Data Checking"
   ]
  },
  {
   "cell_type": "code",
   "execution_count": 3,
   "metadata": {},
   "outputs": [
    {
     "data": {
      "text/plain": [
       "(768, 9)"
      ]
     },
     "execution_count": 3,
     "metadata": {},
     "output_type": "execute_result"
    }
   ],
   "source": [
    "diabetes_dataset.shape"
   ]
  },
  {
   "cell_type": "code",
   "execution_count": 4,
   "metadata": {},
   "outputs": [
    {
     "data": {
      "text/html": [
       "<div>\n",
       "<style scoped>\n",
       "    .dataframe tbody tr th:only-of-type {\n",
       "        vertical-align: middle;\n",
       "    }\n",
       "\n",
       "    .dataframe tbody tr th {\n",
       "        vertical-align: top;\n",
       "    }\n",
       "\n",
       "    .dataframe thead th {\n",
       "        text-align: right;\n",
       "    }\n",
       "</style>\n",
       "<table border=\"1\" class=\"dataframe\">\n",
       "  <thead>\n",
       "    <tr style=\"text-align: right;\">\n",
       "      <th></th>\n",
       "      <th>Pregnancies</th>\n",
       "      <th>Glucose</th>\n",
       "      <th>BloodPressure</th>\n",
       "      <th>SkinThickness</th>\n",
       "      <th>Insulin</th>\n",
       "      <th>BMI</th>\n",
       "      <th>DiabetesPedigreeFunction</th>\n",
       "      <th>Age</th>\n",
       "      <th>Outcome</th>\n",
       "    </tr>\n",
       "  </thead>\n",
       "  <tbody>\n",
       "    <tr>\n",
       "      <th>0</th>\n",
       "      <td>6</td>\n",
       "      <td>148</td>\n",
       "      <td>72</td>\n",
       "      <td>35</td>\n",
       "      <td>0</td>\n",
       "      <td>33.6</td>\n",
       "      <td>0.627</td>\n",
       "      <td>50</td>\n",
       "      <td>1</td>\n",
       "    </tr>\n",
       "    <tr>\n",
       "      <th>1</th>\n",
       "      <td>1</td>\n",
       "      <td>85</td>\n",
       "      <td>66</td>\n",
       "      <td>29</td>\n",
       "      <td>0</td>\n",
       "      <td>26.6</td>\n",
       "      <td>0.351</td>\n",
       "      <td>31</td>\n",
       "      <td>0</td>\n",
       "    </tr>\n",
       "    <tr>\n",
       "      <th>2</th>\n",
       "      <td>8</td>\n",
       "      <td>183</td>\n",
       "      <td>64</td>\n",
       "      <td>0</td>\n",
       "      <td>0</td>\n",
       "      <td>23.3</td>\n",
       "      <td>0.672</td>\n",
       "      <td>32</td>\n",
       "      <td>1</td>\n",
       "    </tr>\n",
       "    <tr>\n",
       "      <th>3</th>\n",
       "      <td>1</td>\n",
       "      <td>89</td>\n",
       "      <td>66</td>\n",
       "      <td>23</td>\n",
       "      <td>94</td>\n",
       "      <td>28.1</td>\n",
       "      <td>0.167</td>\n",
       "      <td>21</td>\n",
       "      <td>0</td>\n",
       "    </tr>\n",
       "    <tr>\n",
       "      <th>4</th>\n",
       "      <td>0</td>\n",
       "      <td>137</td>\n",
       "      <td>40</td>\n",
       "      <td>35</td>\n",
       "      <td>168</td>\n",
       "      <td>43.1</td>\n",
       "      <td>2.288</td>\n",
       "      <td>33</td>\n",
       "      <td>1</td>\n",
       "    </tr>\n",
       "  </tbody>\n",
       "</table>\n",
       "</div>"
      ],
      "text/plain": [
       "   Pregnancies  Glucose  BloodPressure  SkinThickness  Insulin   BMI  \\\n",
       "0            6      148             72             35        0  33.6   \n",
       "1            1       85             66             29        0  26.6   \n",
       "2            8      183             64              0        0  23.3   \n",
       "3            1       89             66             23       94  28.1   \n",
       "4            0      137             40             35      168  43.1   \n",
       "\n",
       "   DiabetesPedigreeFunction  Age  Outcome  \n",
       "0                     0.627   50        1  \n",
       "1                     0.351   31        0  \n",
       "2                     0.672   32        1  \n",
       "3                     0.167   21        0  \n",
       "4                     2.288   33        1  "
      ]
     },
     "execution_count": 4,
     "metadata": {},
     "output_type": "execute_result"
    }
   ],
   "source": [
    "diabetes_dataset.head()"
   ]
  },
  {
   "cell_type": "code",
   "execution_count": 5,
   "metadata": {},
   "outputs": [
    {
     "data": {
      "text/html": [
       "<div>\n",
       "<style scoped>\n",
       "    .dataframe tbody tr th:only-of-type {\n",
       "        vertical-align: middle;\n",
       "    }\n",
       "\n",
       "    .dataframe tbody tr th {\n",
       "        vertical-align: top;\n",
       "    }\n",
       "\n",
       "    .dataframe thead th {\n",
       "        text-align: right;\n",
       "    }\n",
       "</style>\n",
       "<table border=\"1\" class=\"dataframe\">\n",
       "  <thead>\n",
       "    <tr style=\"text-align: right;\">\n",
       "      <th></th>\n",
       "      <th>Pregnancies</th>\n",
       "      <th>Glucose</th>\n",
       "      <th>BloodPressure</th>\n",
       "      <th>SkinThickness</th>\n",
       "      <th>Insulin</th>\n",
       "      <th>BMI</th>\n",
       "      <th>DiabetesPedigreeFunction</th>\n",
       "      <th>Age</th>\n",
       "      <th>Outcome</th>\n",
       "    </tr>\n",
       "  </thead>\n",
       "  <tbody>\n",
       "    <tr>\n",
       "      <th>count</th>\n",
       "      <td>768.000000</td>\n",
       "      <td>768.000000</td>\n",
       "      <td>768.000000</td>\n",
       "      <td>768.000000</td>\n",
       "      <td>768.000000</td>\n",
       "      <td>768.000000</td>\n",
       "      <td>768.000000</td>\n",
       "      <td>768.000000</td>\n",
       "      <td>768.000000</td>\n",
       "    </tr>\n",
       "    <tr>\n",
       "      <th>mean</th>\n",
       "      <td>3.845052</td>\n",
       "      <td>120.894531</td>\n",
       "      <td>69.105469</td>\n",
       "      <td>20.536458</td>\n",
       "      <td>79.799479</td>\n",
       "      <td>31.992578</td>\n",
       "      <td>0.471876</td>\n",
       "      <td>33.240885</td>\n",
       "      <td>0.348958</td>\n",
       "    </tr>\n",
       "    <tr>\n",
       "      <th>std</th>\n",
       "      <td>3.369578</td>\n",
       "      <td>31.972618</td>\n",
       "      <td>19.355807</td>\n",
       "      <td>15.952218</td>\n",
       "      <td>115.244002</td>\n",
       "      <td>7.884160</td>\n",
       "      <td>0.331329</td>\n",
       "      <td>11.760232</td>\n",
       "      <td>0.476951</td>\n",
       "    </tr>\n",
       "    <tr>\n",
       "      <th>min</th>\n",
       "      <td>0.000000</td>\n",
       "      <td>0.000000</td>\n",
       "      <td>0.000000</td>\n",
       "      <td>0.000000</td>\n",
       "      <td>0.000000</td>\n",
       "      <td>0.000000</td>\n",
       "      <td>0.078000</td>\n",
       "      <td>21.000000</td>\n",
       "      <td>0.000000</td>\n",
       "    </tr>\n",
       "    <tr>\n",
       "      <th>25%</th>\n",
       "      <td>1.000000</td>\n",
       "      <td>99.000000</td>\n",
       "      <td>62.000000</td>\n",
       "      <td>0.000000</td>\n",
       "      <td>0.000000</td>\n",
       "      <td>27.300000</td>\n",
       "      <td>0.243750</td>\n",
       "      <td>24.000000</td>\n",
       "      <td>0.000000</td>\n",
       "    </tr>\n",
       "    <tr>\n",
       "      <th>50%</th>\n",
       "      <td>3.000000</td>\n",
       "      <td>117.000000</td>\n",
       "      <td>72.000000</td>\n",
       "      <td>23.000000</td>\n",
       "      <td>30.500000</td>\n",
       "      <td>32.000000</td>\n",
       "      <td>0.372500</td>\n",
       "      <td>29.000000</td>\n",
       "      <td>0.000000</td>\n",
       "    </tr>\n",
       "    <tr>\n",
       "      <th>75%</th>\n",
       "      <td>6.000000</td>\n",
       "      <td>140.250000</td>\n",
       "      <td>80.000000</td>\n",
       "      <td>32.000000</td>\n",
       "      <td>127.250000</td>\n",
       "      <td>36.600000</td>\n",
       "      <td>0.626250</td>\n",
       "      <td>41.000000</td>\n",
       "      <td>1.000000</td>\n",
       "    </tr>\n",
       "    <tr>\n",
       "      <th>max</th>\n",
       "      <td>17.000000</td>\n",
       "      <td>199.000000</td>\n",
       "      <td>122.000000</td>\n",
       "      <td>99.000000</td>\n",
       "      <td>846.000000</td>\n",
       "      <td>67.100000</td>\n",
       "      <td>2.420000</td>\n",
       "      <td>81.000000</td>\n",
       "      <td>1.000000</td>\n",
       "    </tr>\n",
       "  </tbody>\n",
       "</table>\n",
       "</div>"
      ],
      "text/plain": [
       "       Pregnancies     Glucose  BloodPressure  SkinThickness     Insulin  \\\n",
       "count   768.000000  768.000000     768.000000     768.000000  768.000000   \n",
       "mean      3.845052  120.894531      69.105469      20.536458   79.799479   \n",
       "std       3.369578   31.972618      19.355807      15.952218  115.244002   \n",
       "min       0.000000    0.000000       0.000000       0.000000    0.000000   \n",
       "25%       1.000000   99.000000      62.000000       0.000000    0.000000   \n",
       "50%       3.000000  117.000000      72.000000      23.000000   30.500000   \n",
       "75%       6.000000  140.250000      80.000000      32.000000  127.250000   \n",
       "max      17.000000  199.000000     122.000000      99.000000  846.000000   \n",
       "\n",
       "              BMI  DiabetesPedigreeFunction         Age     Outcome  \n",
       "count  768.000000                768.000000  768.000000  768.000000  \n",
       "mean    31.992578                  0.471876   33.240885    0.348958  \n",
       "std      7.884160                  0.331329   11.760232    0.476951  \n",
       "min      0.000000                  0.078000   21.000000    0.000000  \n",
       "25%     27.300000                  0.243750   24.000000    0.000000  \n",
       "50%     32.000000                  0.372500   29.000000    0.000000  \n",
       "75%     36.600000                  0.626250   41.000000    1.000000  \n",
       "max     67.100000                  2.420000   81.000000    1.000000  "
      ]
     },
     "execution_count": 5,
     "metadata": {},
     "output_type": "execute_result"
    }
   ],
   "source": [
    "diabetes_dataset.describe()"
   ]
  },
  {
   "cell_type": "code",
   "execution_count": 6,
   "metadata": {},
   "outputs": [
    {
     "data": {
      "text/plain": [
       "Outcome\n",
       "0    500\n",
       "1    268\n",
       "dtype: int64"
      ]
     },
     "execution_count": 6,
     "metadata": {},
     "output_type": "execute_result"
    }
   ],
   "source": [
    "diabetes_dataset.groupby(\"Outcome\").size()"
   ]
  },
  {
   "cell_type": "code",
   "execution_count": 7,
   "metadata": {},
   "outputs": [
    {
     "data": {
      "image/png": "[encoded data removed]",
      "text/plain": [
       "<Figure size 1440x1080 with 9 Axes>"
      ]
     },
     "metadata": {
      "needs_background": "light"
     },
     "output_type": "display_data"
    }
   ],
   "source": [
    "#check variable distributions\n",
    "diabetes_dataset.hist(bins=30, figsize=(20,15))\n",
    "plt.show()"
   ]
  },
  {
   "cell_type": "markdown",
   "metadata": {},
   "source": [
    "Now we know that there are 768 people with an uneven distribution of the outcome (healthy:sick = 500:268). There are also some missing values (0s) for the variables 'Glucose', 'BloodPressure', 'SkinThickness', 'Insulin' and 'BMI'."
   ]
  },
  {
   "cell_type": "markdown",
   "metadata": {},
   "source": [
    "## Some Data Cleaning\n",
    "\n",
    "The dataset contains multiple (invalid) zero values. We are going to replace zeros with NAN."
   ]
  },
  {
   "cell_type": "code",
   "execution_count": 8,
   "metadata": {},
   "outputs": [
    {
     "data": {
      "text/html": [
       "<div>\n",
       "<style scoped>\n",
       "    .dataframe tbody tr th:only-of-type {\n",
       "        vertical-align: middle;\n",
       "    }\n",
       "\n",
       "    .dataframe tbody tr th {\n",
       "        vertical-align: top;\n",
       "    }\n",
       "\n",
       "    .dataframe thead th {\n",
       "        text-align: right;\n",
       "    }\n",
       "</style>\n",
       "<table border=\"1\" class=\"dataframe\">\n",
       "  <thead>\n",
       "    <tr style=\"text-align: right;\">\n",
       "      <th></th>\n",
       "      <th>Pregnancies</th>\n",
       "      <th>Glucose</th>\n",
       "      <th>BloodPressure</th>\n",
       "      <th>SkinThickness</th>\n",
       "      <th>Insulin</th>\n",
       "      <th>BMI</th>\n",
       "      <th>DiabetesPedigreeFunction</th>\n",
       "      <th>Age</th>\n",
       "      <th>Outcome</th>\n",
       "    </tr>\n",
       "  </thead>\n",
       "  <tbody>\n",
       "    <tr>\n",
       "      <th>0</th>\n",
       "      <td>6</td>\n",
       "      <td>148.0</td>\n",
       "      <td>72.0</td>\n",
       "      <td>35.0</td>\n",
       "      <td>NaN</td>\n",
       "      <td>33.6</td>\n",
       "      <td>0.627</td>\n",
       "      <td>50</td>\n",
       "      <td>1</td>\n",
       "    </tr>\n",
       "    <tr>\n",
       "      <th>1</th>\n",
       "      <td>1</td>\n",
       "      <td>85.0</td>\n",
       "      <td>66.0</td>\n",
       "      <td>29.0</td>\n",
       "      <td>NaN</td>\n",
       "      <td>26.6</td>\n",
       "      <td>0.351</td>\n",
       "      <td>31</td>\n",
       "      <td>0</td>\n",
       "    </tr>\n",
       "    <tr>\n",
       "      <th>2</th>\n",
       "      <td>8</td>\n",
       "      <td>183.0</td>\n",
       "      <td>64.0</td>\n",
       "      <td>NaN</td>\n",
       "      <td>NaN</td>\n",
       "      <td>23.3</td>\n",
       "      <td>0.672</td>\n",
       "      <td>32</td>\n",
       "      <td>1</td>\n",
       "    </tr>\n",
       "    <tr>\n",
       "      <th>3</th>\n",
       "      <td>1</td>\n",
       "      <td>89.0</td>\n",
       "      <td>66.0</td>\n",
       "      <td>23.0</td>\n",
       "      <td>94.0</td>\n",
       "      <td>28.1</td>\n",
       "      <td>0.167</td>\n",
       "      <td>21</td>\n",
       "      <td>0</td>\n",
       "    </tr>\n",
       "    <tr>\n",
       "      <th>4</th>\n",
       "      <td>0</td>\n",
       "      <td>137.0</td>\n",
       "      <td>40.0</td>\n",
       "      <td>35.0</td>\n",
       "      <td>168.0</td>\n",
       "      <td>43.1</td>\n",
       "      <td>2.288</td>\n",
       "      <td>33</td>\n",
       "      <td>1</td>\n",
       "    </tr>\n",
       "    <tr>\n",
       "      <th>...</th>\n",
       "      <td>...</td>\n",
       "      <td>...</td>\n",
       "      <td>...</td>\n",
       "      <td>...</td>\n",
       "      <td>...</td>\n",
       "      <td>...</td>\n",
       "      <td>...</td>\n",
       "      <td>...</td>\n",
       "      <td>...</td>\n",
       "    </tr>\n",
       "    <tr>\n",
       "      <th>763</th>\n",
       "      <td>10</td>\n",
       "      <td>101.0</td>\n",
       "      <td>76.0</td>\n",
       "      <td>48.0</td>\n",
       "      <td>180.0</td>\n",
       "      <td>32.9</td>\n",
       "      <td>0.171</td>\n",
       "      <td>63</td>\n",
       "      <td>0</td>\n",
       "    </tr>\n",
       "    <tr>\n",
       "      <th>764</th>\n",
       "      <td>2</td>\n",
       "      <td>122.0</td>\n",
       "      <td>70.0</td>\n",
       "      <td>27.0</td>\n",
       "      <td>NaN</td>\n",
       "      <td>36.8</td>\n",
       "      <td>0.340</td>\n",
       "      <td>27</td>\n",
       "      <td>0</td>\n",
       "    </tr>\n",
       "    <tr>\n",
       "      <th>765</th>\n",
       "      <td>5</td>\n",
       "      <td>121.0</td>\n",
       "      <td>72.0</td>\n",
       "      <td>23.0</td>\n",
       "      <td>112.0</td>\n",
       "      <td>26.2</td>\n",
       "      <td>0.245</td>\n",
       "      <td>30</td>\n",
       "      <td>0</td>\n",
       "    </tr>\n",
       "    <tr>\n",
       "      <th>766</th>\n",
       "      <td>1</td>\n",
       "      <td>126.0</td>\n",
       "      <td>60.0</td>\n",
       "      <td>NaN</td>\n",
       "      <td>NaN</td>\n",
       "      <td>30.1</td>\n",
       "      <td>0.349</td>\n",
       "      <td>47</td>\n",
       "      <td>1</td>\n",
       "    </tr>\n",
       "    <tr>\n",
       "      <th>767</th>\n",
       "      <td>1</td>\n",
       "      <td>93.0</td>\n",
       "      <td>70.0</td>\n",
       "      <td>31.0</td>\n",
       "      <td>NaN</td>\n",
       "      <td>30.4</td>\n",
       "      <td>0.315</td>\n",
       "      <td>23</td>\n",
       "      <td>0</td>\n",
       "    </tr>\n",
       "  </tbody>\n",
       "</table>\n",
       "<p>768 rows × 9 columns</p>\n",
       "</div>"
      ],
      "text/plain": [
       "     Pregnancies  Glucose  BloodPressure  SkinThickness  Insulin   BMI  \\\n",
       "0              6    148.0           72.0           35.0      NaN  33.6   \n",
       "1              1     85.0           66.0           29.0      NaN  26.6   \n",
       "2              8    183.0           64.0            NaN      NaN  23.3   \n",
       "3              1     89.0           66.0           23.0     94.0  28.1   \n",
       "4              0    137.0           40.0           35.0    168.0  43.1   \n",
       "..           ...      ...            ...            ...      ...   ...   \n",
       "763           10    101.0           76.0           48.0    180.0  32.9   \n",
       "764            2    122.0           70.0           27.0      NaN  36.8   \n",
       "765            5    121.0           72.0           23.0    112.0  26.2   \n",
       "766            1    126.0           60.0            NaN      NaN  30.1   \n",
       "767            1     93.0           70.0           31.0      NaN  30.4   \n",
       "\n",
       "     DiabetesPedigreeFunction  Age  Outcome  \n",
       "0                       0.627   50        1  \n",
       "1                       0.351   31        0  \n",
       "2                       0.672   32        1  \n",
       "3                       0.167   21        0  \n",
       "4                       2.288   33        1  \n",
       "..                        ...  ...      ...  \n",
       "763                     0.171   63        0  \n",
       "764                     0.340   27        0  \n",
       "765                     0.245   30        0  \n",
       "766                     0.349   47        1  \n",
       "767                     0.315   23        0  \n",
       "\n",
       "[768 rows x 9 columns]"
      ]
     },
     "execution_count": 8,
     "metadata": {},
     "output_type": "execute_result"
    }
   ],
   "source": [
    "# This replaces zero/invalid values with NANs.\n",
    "dataset_nozeros = diabetes_dataset.copy()\n",
    "zero_fields = ['Glucose', 'BloodPressure', 'SkinThickness', 'Insulin', 'BMI'] \n",
    "diabetes_dataset[zero_fields] = diabetes_dataset[zero_fields].replace(0, np.nan)\n",
    "diabetes_dataset.describe()  # check that there are no invalid values left\n",
    "diabetes_dataset"
   ]
  },
  {
   "cell_type": "markdown",
   "metadata": {},
   "source": [
    "## Data Stratification\n",
    "\n",
    "When we split the dataset into train and test datasets, the split is completely random. Thus the instances of each class label or outcome in the train or test datasets is random. Thus we may have many instances of class 1 in training data and less instances of class 2 in the training data. So during classification, we may have accurate predictions for class1 but not for class2. Thus we stratify the data, so that we have proportionate data for all the classes in both the training and testing data."
   ]
  },
  {
   "cell_type": "code",
   "execution_count": 9,
   "metadata": {},
   "outputs": [],
   "source": [
    "from sklearn.model_selection import train_test_split \n",
    "\n",
    "# divide into training and testing data\n",
    "train,test = train_test_split(diabetes_dataset, test_size=0.25, random_state=0, stratify=diabetes_dataset['Outcome']) \n",
    "\n",
    "# separate the 'Outcome' column from training/testing data\n",
    "train_X = train[train.columns[:8]]\n",
    "test_X = test[test.columns[:8]]\n",
    "train_Y = train['Outcome']\n",
    "test_Y = test['Outcome']"
   ]
  },
  {
   "cell_type": "markdown",
   "metadata": {},
   "source": [
    "## Data imputation\n",
    "We replace NAN with the mean on the column on the training set. Then we uses these means of the training set to impute the test set also. The test set shouldn't be used to infer or transform the training data (this would be data leakage, and may lead in certain situation to biased predictions; the test data should be used only after the model was completeley developped on the train set).\n",
    "\n",
    "A simple imputation can be done also with the median (replacin mean with median in code below)."
   ]
  },
  {
   "cell_type": "code",
   "execution_count": 10,
   "metadata": {},
   "outputs": [
    {
     "name": "stdout",
     "output_type": "stream",
     "text": [
      "means per columns for imputation [  3.99652778 121.83187391  72.52631579  29.70959596 155.6959707\n",
      "  32.31933216   0.47252951  33.71527778]\n",
      "notice mean values appearing in the train set [[  1.          80.          74.         ...  30.           0.527\n",
      "   22.        ]\n",
      " [  2.         119.          72.52631579 ...  19.6          0.832\n",
      "   72.        ]\n",
      " [ 10.         115.          72.52631579 ...  32.31933216   0.261\n",
      "   30.        ]\n",
      " ...\n",
      " [  3.          82.          70.         ...  21.1          0.389\n",
      "   25.        ]\n",
      " [  4.         156.          75.         ...  48.3          0.238\n",
      "   32.        ]\n",
      " [  0.         161.          50.         ...  21.9          0.254\n",
      "   65.        ]]\n"
     ]
    }
   ],
   "source": [
    "from sklearn.impute import SimpleImputer\n",
    "imputer = SimpleImputer(strategy=\"mean\")\n",
    "imputer.fit(train_X)\n",
    "#here are the means per columns that are used for imputation\n",
    "print('means per columns for imputation', imputer.statistics_)\n",
    "# now perform the imputation on trainng set\n",
    "train_X=imputer.transform(train_X)\n",
    "# and imputation on test set\n",
    "test_X=imputer.transform(test_X)\n",
    "print('notice mean values appearing in the train set', train_X)"
   ]
  },
  {
   "cell_type": "markdown",
   "metadata": {},
   "source": [
    "# Experiment with ensemble based algorithms: Bagging, Random forests, Adaboost\n",
    "\n",
    "\n",
    "Here are some recommendations on most important parameters for these algorithms. For more details on the usually larger lists of hyperparameters for a given algorithm, see sklearn documentation (google on the name of the class like RandomForestClassifier for random forests).\n",
    "\n",
    "BaggingClassifier:\n",
    "n_estimators - not really to tune, but choose large number to ensure prediction convergence and stability (example at least 100, or most of the times 500)\n",
    "\n",
    "RandomForestClassifier:\n",
    "max_features (by default square root of number of features)\n",
    "n_estimators - normally choose large number of estimators (usually at least 500)\n",
    "\n",
    "Look also into the feature importance extracted from random forests model. Useful in case you want to select the most important features to use in other algorithms which would not benefit of having many input variables (for various reasons such as computation lasts long, or prone to overfitting when many variables like in the case linear models). \n",
    "\n",
    "AdaBoostClassifier:\n",
    "n_estimators,\n",
    "learning_rate"
   ]
  },
  {
   "cell_type": "markdown",
   "metadata": {},
   "source": [
    "# Bagging\n"
   ]
  },
  {
   "cell_type": "code",
   "execution_count": 18,
   "metadata": {},
   "outputs": [
    {
     "name": "stdout",
     "output_type": "stream",
     "text": [
      "acuracy on the 5 folds [0.69827586 0.71304348 0.7826087  0.73913043 0.75652174]\n",
      "and their mean 0.7379160419790105\n"
     ]
    }
   ],
   "source": [
    "from sklearn.ensemble import BaggingClassifier\n",
    "from sklearn.tree import DecisionTreeClassifier\n",
    "bg=BaggingClassifier(DecisionTreeClassifier())\n",
    "scores=cross_val_score(bg, train_X, train_Y, scoring='accuracy', cv=5)\n",
    "print('acuracy on the 5 folds', scores)\n",
    "print('and their mean', np.mean(scores))"
   ]
  },
  {
   "cell_type": "code",
   "execution_count": 19,
   "metadata": {},
   "outputs": [
    {
     "name": "stdout",
     "output_type": "stream",
     "text": [
      "acuracy on the 5 folds [0.69827586 0.73043478 0.77391304 0.75652174 0.74782609]\n",
      "and their mean 0.7413943028485758\n"
     ]
    }
   ],
   "source": [
    "\n",
    "# with a large numbe of estimators we usually get a stable good bagging model; here we evalate it in cross validation.\n",
    "bg.n_estimators=100 # by default 10 estimators (trees) are used\n",
    "scores=cross_val_score(bg, train_X, train_Y, scoring='accuracy', cv=5)\n",
    "print('acuracy on the 5 folds', scores)\n",
    "print('and their mean', np.mean(scores))"
   ]
  },
  {
   "cell_type": "code",
   "execution_count": 20,
   "metadata": {},
   "outputs": [
    {
     "name": "stdout",
     "output_type": "stream",
     "text": [
      "confusion matrix,  classes order is 0 and 1, actual values on rows, predicted values on columns \n",
      " [[107  18]\n",
      " [ 29  38]]\n",
      "\n",
      " accuracy 0.7552083333333334\n",
      "\n",
      " precision 0.6785714285714286\n",
      "\n",
      " recall (sensitivity) 0.5671641791044776\n",
      "\n",
      " f1 0.6178861788617885\n"
     ]
    }
   ],
   "source": [
    "# with a large numbe of estimators we usually get a stable good bagging model, so we don't do any model tuning here\n",
    "\n",
    "bg.fit(train_X, train_Y)\n",
    "pred_Y=bg.predict(test_X)\n",
    "\n",
    "cm=confusion_matrix(test_Y, pred_Y) # confusion matrix\n",
    "print('confusion matrix,  classes order is 0 and 1, actual values on rows, predicted values on columns \\n', cm)\n",
    "print('\\n accuracy', accuracy_score(test_Y, pred_Y))\n",
    "print('\\n precision', precision_score(test_Y, pred_Y))\n",
    "print('\\n recall (sensitivity)', recall_score(test_Y, pred_Y))\n",
    "print('\\n f1', f1_score(test_Y, pred_Y))"
   ]
  },
  {
   "cell_type": "markdown",
   "metadata": {},
   "source": [
    "# Random Forests"
   ]
  },
  {
   "cell_type": "code",
   "execution_count": 21,
   "metadata": {},
   "outputs": [
    {
     "name": "stdout",
     "output_type": "stream",
     "text": [
      "acuracy on the 5 folds [0.69827586 0.77391304 0.75652174 0.75652174 0.76521739]\n",
      "and their mean 0.7500899550224888\n"
     ]
    }
   ],
   "source": [
    "from sklearn.ensemble import RandomForestClassifier\n",
    "rf=RandomForestClassifier()\n",
    "scores=cross_val_score(rf, train_X, train_Y, scoring='accuracy', cv=5)\n",
    "print('acuracy on the 5 folds', scores)\n",
    "print('and their mean', np.mean(scores))"
   ]
  },
  {
   "cell_type": "code",
   "execution_count": 22,
   "metadata": {},
   "outputs": [
    {
     "name": "stdout",
     "output_type": "stream",
     "text": [
      "acuracy on the 5 folds [0.69827586 0.74782609 0.79130435 0.74782609 0.76521739]\n",
      "and their mean 0.7500899550224888\n"
     ]
    }
   ],
   "source": [
    "rf.max_features= 2\n",
    "rf.n_estimators=500\n",
    "scores=cross_val_score(rf, train_X, train_Y, scoring='accuracy', cv=5)\n",
    "print('acuracy on the 5 folds', scores)\n",
    "print('and their mean', np.mean(scores))"
   ]
  },
  {
   "cell_type": "code",
   "execution_count": 23,
   "metadata": {},
   "outputs": [
    {
     "name": "stdout",
     "output_type": "stream",
     "text": [
      "best parameter values {'max_features': 3}\n",
      "best estimator RandomForestClassifier(bootstrap=True, ccp_alpha=0.0, class_weight=None,\n",
      "                       criterion='gini', max_depth=None, max_features=3,\n",
      "                       max_leaf_nodes=None, max_samples=None,\n",
      "                       min_impurity_decrease=0.0, min_impurity_split=None,\n",
      "                       min_samples_leaf=1, min_samples_split=2,\n",
      "                       min_weight_fraction_leaf=0.0, n_estimators=500,\n",
      "                       n_jobs=None, oob_score=False, random_state=None,\n",
      "                       verbose=0, warm_start=False)\n",
      "0.7379460269865067 {'max_features': 2}\n",
      "0.7518290854572715 {'max_features': 3}\n",
      "0.7466266866566718 {'max_features': 4}\n",
      "0.7431334332833583 {'max_features': 6}\n"
     ]
    }
   ],
   "source": [
    "from sklearn.model_selection import GridSearchCV\n",
    "\n",
    "param_grid = [\n",
    "     {'max_features': [2, 3, 4, 6]} ]\n",
    "\n",
    "grid_search = GridSearchCV(rf, param_grid, cv=5,\n",
    "                           scoring='accuracy',\n",
    "                           return_train_score=True,\n",
    "                            n_jobs=-1)   # notice n_jobs is number of jobs to run in parallel; when -1, all the processor capacity is used\n",
    "\n",
    "grid_search.fit(train_X, train_Y)\n",
    "print('best parameter values', grid_search.best_params_)\n",
    "print('best estimator', grid_search.best_estimator_)\n",
    "\n",
    "# display performances per each repetition of cross validation\n",
    "cvres = grid_search.cv_results_\n",
    "for mean_score, params in zip(cvres[\"mean_test_score\"], cvres[\"params\"]):\n",
    "    print(np.mean(mean_score), params)\n"
   ]
  },
  {
   "cell_type": "code",
   "execution_count": 24,
   "metadata": {},
   "outputs": [
    {
     "name": "stdout",
     "output_type": "stream",
     "text": [
      "confusion matrix,  classes order is 0 and 1, actual values on rows, predicted values on columns \n",
      " [[109  16]\n",
      " [ 29  38]]\n",
      "\n",
      " accuracy 0.765625\n",
      "\n",
      " precision 0.7037037037037037\n",
      "\n",
      " recall (sensitivity) 0.5671641791044776\n",
      "\n",
      " f1 0.6280991735537191\n"
     ]
    }
   ],
   "source": [
    "# evaluate best model from the grid on the test set\n",
    "\n",
    "best_rf=grid_search.best_estimator_\n",
    "pred_Y=best_rf.predict(test_X)\n",
    "\n",
    "cm=confusion_matrix(test_Y, pred_Y) # confusion matrix\n",
    "print('confusion matrix,  classes order is 0 and 1, actual values on rows, predicted values on columns \\n', cm)\n",
    "print('\\n accuracy', accuracy_score(test_Y, pred_Y))\n",
    "print('\\n precision', precision_score(test_Y, pred_Y))\n",
    "print('\\n recall (sensitivity)', recall_score(test_Y, pred_Y))\n",
    "print('\\n f1', f1_score(test_Y, pred_Y))\n"
   ]
  },
  {
   "cell_type": "markdown",
   "metadata": {},
   "source": [
    "# AdaBoost\n"
   ]
  },
  {
   "cell_type": "code",
   "execution_count": 25,
   "metadata": {},
   "outputs": [
    {
     "name": "stdout",
     "output_type": "stream",
     "text": [
      "acuracy on the 5 folds [0.67241379 0.75652174 0.79130435 0.75652174 0.75652174]\n",
      "and their mean 0.7466566716641679\n"
     ]
    }
   ],
   "source": [
    "from sklearn.ensemble import AdaBoostClassifier\n",
    "from sklearn.tree import DecisionTreeClassifier\n",
    "ab=AdaBoostClassifier(DecisionTreeClassifier(max_depth=3))\n",
    "scores=cross_val_score(rf, train_X, train_Y, scoring='accuracy', cv=5)\n",
    "print('acuracy on the 5 folds', scores)\n",
    "print('and their mean', np.mean(scores))"
   ]
  },
  {
   "cell_type": "code",
   "execution_count": 26,
   "metadata": {},
   "outputs": [
    {
     "name": "stdout",
     "output_type": "stream",
     "text": [
      "acuracy on the 5 folds [0.68965517 0.74782609 0.79130435 0.77391304 0.76521739]\n",
      "and their mean 0.7535832083958021\n"
     ]
    }
   ],
   "source": [
    "ab.n_estimators=200\n",
    "ab.learning_rate=0.5\n",
    "scores=cross_val_score(rf, train_X, train_Y, scoring='accuracy', cv=5)\n",
    "print('acuracy on the 5 folds', scores)\n",
    "print('and their mean', np.mean(scores))"
   ]
  },
  {
   "cell_type": "code",
   "execution_count": 27,
   "metadata": {},
   "outputs": [
    {
     "name": "stdout",
     "output_type": "stream",
     "text": [
      "best parameter values {'learning_rate': 0.1, 'n_estimators': 10}\n",
      "best estimator AdaBoostClassifier(algorithm='SAMME.R',\n",
      "                   base_estimator=DecisionTreeClassifier(ccp_alpha=0.0,\n",
      "                                                         class_weight=None,\n",
      "                                                         criterion='gini',\n",
      "                                                         max_depth=3,\n",
      "                                                         max_features=None,\n",
      "                                                         max_leaf_nodes=None,\n",
      "                                                         min_impurity_decrease=0.0,\n",
      "                                                         min_impurity_split=None,\n",
      "                                                         min_samples_leaf=1,\n",
      "                                                         min_samples_split=2,\n",
      "                                                         min_weight_fraction_leaf=0.0,\n",
      "                                                         presort='deprecated',\n",
      "                                                         random_state=None,\n",
      "                                                         splitter='best'),\n",
      "                   learning_rate=0.1, n_estimators=10, random_state=None)\n",
      "0.7169865067466267 {'learning_rate': 0.01, 'n_estimators': 10}\n",
      "0.7169865067466267 {'learning_rate': 0.01, 'n_estimators': 20}\n",
      "0.732623688155922 {'learning_rate': 0.01, 'n_estimators': 30}\n",
      "0.7326386806596701 {'learning_rate': 0.01, 'n_estimators': 40}\n",
      "0.732623688155922 {'learning_rate': 0.01, 'n_estimators': 50}\n",
      "0.7361019490254873 {'learning_rate': 0.01, 'n_estimators': 60}\n",
      "0.7378410794602698 {'learning_rate': 0.01, 'n_estimators': 70}\n",
      "0.7431184407796102 {'learning_rate': 0.01, 'n_estimators': 80}\n",
      "0.7396701649175412 {'learning_rate': 0.01, 'n_estimators': 90}\n",
      "0.7396551724137931 {'learning_rate': 0.01, 'n_estimators': 100}\n",
      "0.7465817091454273 {'learning_rate': 0.01, 'n_estimators': 110}\n",
      "0.7465667166416792 {'learning_rate': 0.01, 'n_estimators': 120}\n",
      "0.7483058470764616 {'learning_rate': 0.01, 'n_estimators': 130}\n",
      "0.7465817091454272 {'learning_rate': 0.01, 'n_estimators': 140}\n",
      "0.7535232383808095 {'learning_rate': 0.01, 'n_estimators': 150}\n",
      "0.7518140929535233 {'learning_rate': 0.01, 'n_estimators': 160}\n",
      "0.7466416791604198 {'learning_rate': 0.01, 'n_estimators': 170}\n",
      "0.7483508245877062 {'learning_rate': 0.01, 'n_estimators': 180}\n",
      "0.7466116941529235 {'learning_rate': 0.01, 'n_estimators': 190}\n",
      "0.7413343328335832 {'learning_rate': 0.05, 'n_estimators': 10}\n",
      "0.7448425787106446 {'learning_rate': 0.05, 'n_estimators': 20}\n",
      "0.7518290854572713 {'learning_rate': 0.05, 'n_estimators': 30}\n",
      "0.7361169415292355 {'learning_rate': 0.05, 'n_estimators': 40}\n",
      "0.7413643178410794 {'learning_rate': 0.05, 'n_estimators': 50}\n",
      "0.7361319340329835 {'learning_rate': 0.05, 'n_estimators': 60}\n",
      "0.7344077961019491 {'learning_rate': 0.05, 'n_estimators': 70}\n",
      "0.7396401799100449 {'learning_rate': 0.05, 'n_estimators': 80}\n",
      "0.7465517241379309 {'learning_rate': 0.05, 'n_estimators': 90}\n",
      "0.7448725637181409 {'learning_rate': 0.05, 'n_estimators': 100}\n",
      "0.7517991004497752 {'learning_rate': 0.05, 'n_estimators': 110}\n",
      "0.7413943028485758 {'learning_rate': 0.05, 'n_estimators': 120}\n",
      "0.739640179910045 {'learning_rate': 0.05, 'n_estimators': 130}\n",
      "0.7396551724137932 {'learning_rate': 0.05, 'n_estimators': 140}\n",
      "0.7326836581709146 {'learning_rate': 0.05, 'n_estimators': 150}\n",
      "0.7448425787106447 {'learning_rate': 0.05, 'n_estimators': 160}\n",
      "0.7361619190404798 {'learning_rate': 0.05, 'n_estimators': 170}\n",
      "0.7257271364317841 {'learning_rate': 0.05, 'n_estimators': 180}\n",
      "0.7396251874062969 {'learning_rate': 0.05, 'n_estimators': 190}\n",
      "0.7569565217391304 {'learning_rate': 0.1, 'n_estimators': 10}\n",
      "0.7430584707646177 {'learning_rate': 0.1, 'n_estimators': 20}\n",
      "0.7396401799100449 {'learning_rate': 0.1, 'n_estimators': 30}\n",
      "0.7396401799100449 {'learning_rate': 0.1, 'n_estimators': 40}\n",
      "0.7309895052473764 {'learning_rate': 0.1, 'n_estimators': 50}\n",
      "0.7362068965517242 {'learning_rate': 0.1, 'n_estimators': 60}\n",
      "0.7379010494752624 {'learning_rate': 0.1, 'n_estimators': 70}\n",
      "0.7292353823088457 {'learning_rate': 0.1, 'n_estimators': 80}\n",
      "0.7257571214392804 {'learning_rate': 0.1, 'n_estimators': 90}\n",
      "0.7379010494752624 {'learning_rate': 0.1, 'n_estimators': 100}\n",
      "0.7396251874062969 {'learning_rate': 0.1, 'n_estimators': 110}\n",
      "0.7239730134932534 {'learning_rate': 0.1, 'n_estimators': 120}\n",
      "0.7170164917541229 {'learning_rate': 0.1, 'n_estimators': 130}\n",
      "0.7152923538230883 {'learning_rate': 0.1, 'n_estimators': 140}\n",
      "0.7101049475262368 {'learning_rate': 0.1, 'n_estimators': 150}\n",
      "0.7205097451274363 {'learning_rate': 0.1, 'n_estimators': 160}\n",
      "0.7221889055472264 {'learning_rate': 0.1, 'n_estimators': 170}\n",
      "0.723928035982009 {'learning_rate': 0.1, 'n_estimators': 180}\n",
      "0.7135232383808097 {'learning_rate': 0.1, 'n_estimators': 190}\n",
      "0.7187406296851575 {'learning_rate': 0.5, 'n_estimators': 10}\n",
      "0.6996701649175413 {'learning_rate': 0.5, 'n_estimators': 20}\n",
      "0.6979460269865068 {'learning_rate': 0.5, 'n_estimators': 30}\n",
      "0.7118290854572714 {'learning_rate': 0.5, 'n_estimators': 40}\n",
      "0.7239730134932534 {'learning_rate': 0.5, 'n_estimators': 50}\n",
      "0.7274362818590705 {'learning_rate': 0.5, 'n_estimators': 60}\n",
      "0.7256971514242878 {'learning_rate': 0.5, 'n_estimators': 70}\n",
      "0.7187256371814094 {'learning_rate': 0.5, 'n_estimators': 80}\n",
      "0.7187256371814092 {'learning_rate': 0.5, 'n_estimators': 90}\n",
      "0.7274062968515741 {'learning_rate': 0.5, 'n_estimators': 100}\n",
      "0.737856071964018 {'learning_rate': 0.5, 'n_estimators': 110}\n",
      "0.7326986506746627 {'learning_rate': 0.5, 'n_estimators': 120}\n",
      "0.7344077961019491 {'learning_rate': 0.5, 'n_estimators': 130}\n",
      "0.7448875562218891 {'learning_rate': 0.5, 'n_estimators': 140}\n",
      "0.7327136431784108 {'learning_rate': 0.5, 'n_estimators': 150}\n",
      "0.7344527736131934 {'learning_rate': 0.5, 'n_estimators': 160}\n",
      "0.7309595202398801 {'learning_rate': 0.5, 'n_estimators': 170}\n",
      "0.7413493253373313 {'learning_rate': 0.5, 'n_estimators': 180}\n",
      "0.7535232383808096 {'learning_rate': 0.5, 'n_estimators': 190}\n",
      "0.7309895052473763 {'learning_rate': 1, 'n_estimators': 10}\n",
      "0.708455772113943 {'learning_rate': 1, 'n_estimators': 20}\n",
      "0.722248875562219 {'learning_rate': 1, 'n_estimators': 30}\n",
      "0.7240479760119939 {'learning_rate': 1, 'n_estimators': 40}\n",
      "0.7188305847076462 {'learning_rate': 1, 'n_estimators': 50}\n",
      "0.7049625187406295 {'learning_rate': 1, 'n_estimators': 60}\n",
      "0.7135982008995503 {'learning_rate': 1, 'n_estimators': 70}\n",
      "0.7257421289355321 {'learning_rate': 1, 'n_estimators': 80}\n",
      "0.7153073463268367 {'learning_rate': 1, 'n_estimators': 90}\n",
      "0.7153373313343329 {'learning_rate': 1, 'n_estimators': 100}\n",
      "0.7275412293853074 {'learning_rate': 1, 'n_estimators': 110}\n",
      "0.7396851574212894 {'learning_rate': 1, 'n_estimators': 120}\n",
      "0.7292503748125936 {'learning_rate': 1, 'n_estimators': 130}\n",
      "0.7170614692653673 {'learning_rate': 1, 'n_estimators': 140}\n",
      "0.7153973013493253 {'learning_rate': 1, 'n_estimators': 150}\n",
      "0.7292503748125937 {'learning_rate': 1, 'n_estimators': 160}\n",
      "0.7326836581709145 {'learning_rate': 1, 'n_estimators': 170}\n",
      "0.7188605697151423 {'learning_rate': 1, 'n_estimators': 180}\n",
      "0.7223238380809596 {'learning_rate': 1, 'n_estimators': 190}\n"
     ]
    }
   ],
   "source": [
    "from sklearn.model_selection import GridSearchCV\n",
    "param_grid = {\n",
    "     'n_estimators': np.arange(10,200,10),\n",
    "     'learning_rate': [0.01, 0.05, 0.1, 0.5, 1]\n",
    " }\n",
    "grid_search = GridSearchCV(ab, param_grid, scoring='accuracy', cv=5, n_jobs=-1)\n",
    "grid_search.fit(train_X,train_Y)\n",
    "grid_search.best_params_\n",
    "print('best parameter values', grid_search.best_params_)\n",
    "print('best estimator', grid_search.best_estimator_)\n",
    "\n",
    "# display performances per each repetition of cross validation\n",
    "cvres = grid_search.cv_results_\n",
    "for mean_score, params in zip(cvres[\"mean_test_score\"], cvres[\"params\"]):\n",
    "    print(np.mean(mean_score), params)\n",
    "\n"
   ]
  },
  {
   "cell_type": "code",
   "execution_count": 28,
   "metadata": {},
   "outputs": [
    {
     "name": "stdout",
     "output_type": "stream",
     "text": [
      "confusion matrix,  classes order is 0 and 1, actual values on rows, predicted values on columns \n",
      " [[109  16]\n",
      " [ 29  38]]\n",
      "\n",
      " accuracy 0.765625\n",
      "\n",
      " precision 0.7037037037037037\n",
      "\n",
      " recall (sensitivity) 0.5671641791044776\n",
      "\n",
      " f1 0.6280991735537191\n"
     ]
    }
   ],
   "source": [
    "best_ab=grid_search.best_estimator_\n",
    "pred_Y=best_rf.predict(test_X)\n",
    "\n",
    "cm=confusion_matrix(test_Y, pred_Y) # confusion matrix\n",
    "print('confusion matrix,  classes order is 0 and 1, actual values on rows, predicted values on columns \\n', cm)\n",
    "print('\\n accuracy', accuracy_score(test_Y, pred_Y))\n",
    "print('\\n precision', precision_score(test_Y, pred_Y))\n",
    "print('\\n recall (sensitivity)', recall_score(test_Y, pred_Y))\n",
    "print('\\n f1', f1_score(test_Y, pred_Y))\n"
   ]
  },
  {
   "cell_type": "markdown",
   "metadata": {},
   "source": [
    "# Conclusion\n",
    "The enseamble models perform in general better than single models as decision trees. In particular Adaboost and Random Forest performed better than Bagging and DT on this dataset. In general, depending on the dataset, ensemble models can take significantly longer to train and tune (here a few seconds for Adaboost). If computatin lasts longer (for hours) on larger datasets, try to diminish the number of folds  in CV and/or the grid search."
   ]
  },
  {
   "cell_type": "code",
   "execution_count": null,
   "metadata": {},
   "outputs": [],
   "source": []
  }
 ],
 "metadata": {
  "kernelspec": {
   "display_name": "Python 3 (ipykernel)",
   "language": "python",
   "name": "python3"
  },
  "language_info": {
   "codemirror_mode": {
    "name": "ipython",
    "version": 3
   },
   "file_extension": ".py",
   "mimetype": "text/x-python",
   "name": "python",
   "nbconvert_exporter": "python",
   "pygments_lexer": "ipython3",
   "version": "3.7.11"
  }
 },
 "nbformat": 4,
 "nbformat_minor": 1
}
